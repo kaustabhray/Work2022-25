{
 "cells": [
  {
   "cell_type": "code",
   "execution_count": 7,
   "id": "d787de6f",
   "metadata": {},
   "outputs": [
    {
     "name": "stdout",
     "output_type": "stream",
     "text": [
      "holdings_06-05-2024_6NB959.xlsx\r\n",
      "'holdings(9).csv'\r\n",
      "Untitled.ipynb\r\n",
      "upstox.csv\r\n",
      "upstox.xlsx\r\n",
      "zerodha.csv\r\n"
     ]
    }
   ],
   "source": [
    "!ls -1\n"
   ]
  },
  {
   "cell_type": "code",
   "execution_count": 8,
   "id": "99fbfbc0",
   "metadata": {},
   "outputs": [],
   "source": [
    "upstox_file = 'upstox.csv'\n",
    "zerodha_file = 'zerodha.csv'\n",
    "\n",
    "\n"
   ]
  },
  {
   "cell_type": "code",
   "execution_count": 9,
   "id": "7d61f9d9",
   "metadata": {},
   "outputs": [],
   "source": [
    "import pandas as pd"
   ]
  },
  {
   "cell_type": "code",
   "execution_count": 5,
   "id": "b0b999b4",
   "metadata": {},
   "outputs": [
    {
     "name": "stdout",
     "output_type": "stream",
     "text": [
      "<class 'pandas.core.frame.DataFrame'>\n",
      "RangeIndex: 49 entries, 0 to 48\n",
      "Data columns (total 8 columns):\n",
      " #   Column      Non-Null Count  Dtype  \n",
      "---  ------      --------------  -----  \n",
      " 0   Instrument  49 non-null     object \n",
      " 1   Qty.        49 non-null     int64  \n",
      " 2   Avg. cost   49 non-null     float64\n",
      " 3   LTP         49 non-null     float64\n",
      " 4   Cur. val    49 non-null     float64\n",
      " 5   P&L         49 non-null     float64\n",
      " 6   Net chg.    49 non-null     float64\n",
      " 7   Day chg.    49 non-null     float64\n",
      "dtypes: float64(6), int64(1), object(1)\n",
      "memory usage: 3.2+ KB\n"
     ]
    }
   ],
   "source": [
    "z_holding = pd.read_csv(zerodha_file)\n",
    "z_holding.info()\n"
   ]
  },
  {
   "cell_type": "code",
   "execution_count": 11,
   "id": "d8cf4cf0",
   "metadata": {},
   "outputs": [
    {
     "name": "stdout",
     "output_type": "stream",
     "text": [
      "<class 'pandas.core.frame.DataFrame'>\n",
      "RangeIndex: 39 entries, 0 to 38\n",
      "Data columns (total 10 columns):\n",
      " #   Column       Non-Null Count  Dtype  \n",
      "---  ------       --------------  -----  \n",
      " 0   ISIN         39 non-null     object \n",
      " 1   Scrip Name   39 non-null     object \n",
      " 2   Free Qty     39 non-null     float64\n",
      " 3   Current Qty  39 non-null     float64\n",
      " 4   Freeze Qty   39 non-null     float64\n",
      " 5   Locked Qty   39 non-null     float64\n",
      " 6   Pledge Qty   39 non-null     float64\n",
      " 7   Value Date   39 non-null     object \n",
      " 8   Rate         39 non-null     float64\n",
      " 9   Valuation    39 non-null     float64\n",
      "dtypes: float64(7), object(3)\n",
      "memory usage: 3.2+ KB\n"
     ]
    }
   ],
   "source": [
    "u_holding = pd.read_csv(upstox_file)\n",
    "u_holding.info()"
   ]
  },
  {
   "cell_type": "code",
   "execution_count": 12,
   "id": "b04b5959",
   "metadata": {},
   "outputs": [
    {
     "data": {
      "text/html": [
       "<div>\n",
       "<style scoped>\n",
       "    .dataframe tbody tr th:only-of-type {\n",
       "        vertical-align: middle;\n",
       "    }\n",
       "\n",
       "    .dataframe tbody tr th {\n",
       "        vertical-align: top;\n",
       "    }\n",
       "\n",
       "    .dataframe thead th {\n",
       "        text-align: right;\n",
       "    }\n",
       "</style>\n",
       "<table border=\"1\" class=\"dataframe\">\n",
       "  <thead>\n",
       "    <tr style=\"text-align: right;\">\n",
       "      <th></th>\n",
       "      <th>Instrument</th>\n",
       "      <th>Qty.</th>\n",
       "      <th>Avg. cost</th>\n",
       "      <th>LTP</th>\n",
       "      <th>Cur. val</th>\n",
       "      <th>P&amp;L</th>\n",
       "      <th>Net chg.</th>\n",
       "      <th>Day chg.</th>\n",
       "    </tr>\n",
       "  </thead>\n",
       "  <tbody>\n",
       "    <tr>\n",
       "      <th>0</th>\n",
       "      <td>AARTISURF</td>\n",
       "      <td>21</td>\n",
       "      <td>726.94</td>\n",
       "      <td>684.00</td>\n",
       "      <td>14364.00</td>\n",
       "      <td>-901.80</td>\n",
       "      <td>-5.91</td>\n",
       "      <td>-0.53</td>\n",
       "    </tr>\n",
       "    <tr>\n",
       "      <th>1</th>\n",
       "      <td>ASIANPAINT</td>\n",
       "      <td>53</td>\n",
       "      <td>2775.38</td>\n",
       "      <td>2929.75</td>\n",
       "      <td>155276.75</td>\n",
       "      <td>8181.75</td>\n",
       "      <td>5.56</td>\n",
       "      <td>-1.53</td>\n",
       "    </tr>\n",
       "    <tr>\n",
       "      <th>2</th>\n",
       "      <td>AUBANK</td>\n",
       "      <td>55</td>\n",
       "      <td>623.95</td>\n",
       "      <td>645.00</td>\n",
       "      <td>35475.00</td>\n",
       "      <td>1157.75</td>\n",
       "      <td>3.37</td>\n",
       "      <td>-0.05</td>\n",
       "    </tr>\n",
       "    <tr>\n",
       "      <th>3</th>\n",
       "      <td>AXISBANK</td>\n",
       "      <td>102</td>\n",
       "      <td>982.80</td>\n",
       "      <td>1141.50</td>\n",
       "      <td>116433.00</td>\n",
       "      <td>16187.40</td>\n",
       "      <td>16.15</td>\n",
       "      <td>-0.73</td>\n",
       "    </tr>\n",
       "    <tr>\n",
       "      <th>4</th>\n",
       "      <td>BAJFINANCE</td>\n",
       "      <td>42</td>\n",
       "      <td>6203.85</td>\n",
       "      <td>6932.80</td>\n",
       "      <td>291177.60</td>\n",
       "      <td>30615.75</td>\n",
       "      <td>11.75</td>\n",
       "      <td>0.75</td>\n",
       "    </tr>\n",
       "  </tbody>\n",
       "</table>\n",
       "</div>"
      ],
      "text/plain": [
       "   Instrument  Qty.  Avg. cost      LTP   Cur. val       P&L  Net chg.  \\\n",
       "0   AARTISURF    21     726.94   684.00   14364.00   -901.80     -5.91   \n",
       "1  ASIANPAINT    53    2775.38  2929.75  155276.75   8181.75      5.56   \n",
       "2      AUBANK    55     623.95   645.00   35475.00   1157.75      3.37   \n",
       "3    AXISBANK   102     982.80  1141.50  116433.00  16187.40     16.15   \n",
       "4  BAJFINANCE    42    6203.85  6932.80  291177.60  30615.75     11.75   \n",
       "\n",
       "   Day chg.  \n",
       "0     -0.53  \n",
       "1     -1.53  \n",
       "2     -0.05  \n",
       "3     -0.73  \n",
       "4      0.75  "
      ]
     },
     "execution_count": 12,
     "metadata": {},
     "output_type": "execute_result"
    }
   ],
   "source": [
    "z_holding.head()"
   ]
  },
  {
   "cell_type": "code",
   "execution_count": 13,
   "id": "839ef5b5",
   "metadata": {},
   "outputs": [
    {
     "data": {
      "text/html": [
       "<div>\n",
       "<style scoped>\n",
       "    .dataframe tbody tr th:only-of-type {\n",
       "        vertical-align: middle;\n",
       "    }\n",
       "\n",
       "    .dataframe tbody tr th {\n",
       "        vertical-align: top;\n",
       "    }\n",
       "\n",
       "    .dataframe thead th {\n",
       "        text-align: right;\n",
       "    }\n",
       "</style>\n",
       "<table border=\"1\" class=\"dataframe\">\n",
       "  <thead>\n",
       "    <tr style=\"text-align: right;\">\n",
       "      <th></th>\n",
       "      <th>ISIN</th>\n",
       "      <th>Scrip Name</th>\n",
       "      <th>Free Qty</th>\n",
       "      <th>Current Qty</th>\n",
       "      <th>Freeze Qty</th>\n",
       "      <th>Locked Qty</th>\n",
       "      <th>Pledge Qty</th>\n",
       "      <th>Value Date</th>\n",
       "      <th>Rate</th>\n",
       "      <th>Valuation</th>\n",
       "    </tr>\n",
       "  </thead>\n",
       "  <tbody>\n",
       "    <tr>\n",
       "      <th>0</th>\n",
       "      <td>INE769A01020</td>\n",
       "      <td>AARTI IND-EQ RS.5</td>\n",
       "      <td>56.0</td>\n",
       "      <td>56.0</td>\n",
       "      <td>0.0</td>\n",
       "      <td>0.0</td>\n",
       "      <td>0.0</td>\n",
       "      <td>06-05-2024</td>\n",
       "      <td>749.55</td>\n",
       "      <td>41974.80</td>\n",
       "    </tr>\n",
       "    <tr>\n",
       "      <th>1</th>\n",
       "      <td>INE117A01022</td>\n",
       "      <td>ABB INDIA LTD-EQ RS2</td>\n",
       "      <td>10.0</td>\n",
       "      <td>10.0</td>\n",
       "      <td>0.0</td>\n",
       "      <td>0.0</td>\n",
       "      <td>0.0</td>\n",
       "      <td>06-05-2024</td>\n",
       "      <td>6942.30</td>\n",
       "      <td>69423.00</td>\n",
       "    </tr>\n",
       "    <tr>\n",
       "      <th>2</th>\n",
       "      <td>INE731H01025</td>\n",
       "      <td>ACTION CONST-EQ RS 2</td>\n",
       "      <td>70.0</td>\n",
       "      <td>70.0</td>\n",
       "      <td>0.0</td>\n",
       "      <td>0.0</td>\n",
       "      <td>0.0</td>\n",
       "      <td>06-05-2024</td>\n",
       "      <td>1432.75</td>\n",
       "      <td>100292.50</td>\n",
       "    </tr>\n",
       "    <tr>\n",
       "      <th>3</th>\n",
       "      <td>INE079A01024</td>\n",
       "      <td>AMBUJA CEMENTS EQ</td>\n",
       "      <td>55.0</td>\n",
       "      <td>55.0</td>\n",
       "      <td>0.0</td>\n",
       "      <td>0.0</td>\n",
       "      <td>0.0</td>\n",
       "      <td>06-05-2024</td>\n",
       "      <td>605.95</td>\n",
       "      <td>33327.25</td>\n",
       "    </tr>\n",
       "    <tr>\n",
       "      <th>4</th>\n",
       "      <td>INE372A01015</td>\n",
       "      <td>APAR INDUSTRIES EQTY</td>\n",
       "      <td>5.0</td>\n",
       "      <td>5.0</td>\n",
       "      <td>0.0</td>\n",
       "      <td>0.0</td>\n",
       "      <td>0.0</td>\n",
       "      <td>06-05-2024</td>\n",
       "      <td>7694.55</td>\n",
       "      <td>38472.75</td>\n",
       "    </tr>\n",
       "  </tbody>\n",
       "</table>\n",
       "</div>"
      ],
      "text/plain": [
       "           ISIN            Scrip Name  Free Qty  Current Qty  Freeze Qty  \\\n",
       "0  INE769A01020     AARTI IND-EQ RS.5      56.0         56.0         0.0   \n",
       "1  INE117A01022  ABB INDIA LTD-EQ RS2      10.0         10.0         0.0   \n",
       "2  INE731H01025  ACTION CONST-EQ RS 2      70.0         70.0         0.0   \n",
       "3  INE079A01024     AMBUJA CEMENTS EQ      55.0         55.0         0.0   \n",
       "4  INE372A01015  APAR INDUSTRIES EQTY       5.0          5.0         0.0   \n",
       "\n",
       "   Locked Qty  Pledge Qty  Value Date     Rate  Valuation  \n",
       "0         0.0         0.0  06-05-2024   749.55   41974.80  \n",
       "1         0.0         0.0  06-05-2024  6942.30   69423.00  \n",
       "2         0.0         0.0  06-05-2024  1432.75  100292.50  \n",
       "3         0.0         0.0  06-05-2024   605.95   33327.25  \n",
       "4         0.0         0.0  06-05-2024  7694.55   38472.75  "
      ]
     },
     "execution_count": 13,
     "metadata": {},
     "output_type": "execute_result"
    }
   ],
   "source": [
    "u_holding.head()"
   ]
  },
  {
   "cell_type": "code",
   "execution_count": null,
   "id": "e22acd37",
   "metadata": {},
   "outputs": [],
   "source": []
  }
 ],
 "metadata": {
  "kernelspec": {
   "display_name": "Python [conda env:pams_env]",
   "language": "python",
   "name": "conda-env-pams_env-py"
  },
  "language_info": {
   "codemirror_mode": {
    "name": "ipython",
    "version": 3
   },
   "file_extension": ".py",
   "mimetype": "text/x-python",
   "name": "python",
   "nbconvert_exporter": "python",
   "pygments_lexer": "ipython3",
   "version": "3.10.15"
  }
 },
 "nbformat": 4,
 "nbformat_minor": 5
}
