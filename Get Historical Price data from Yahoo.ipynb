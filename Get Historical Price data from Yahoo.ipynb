{
 "cells": [
  {
   "cell_type": "code",
   "execution_count": null,
   "id": "8df206c6",
   "metadata": {},
   "outputs": [],
   "source": [
    "import pandas as pd\n",
    "import yfinance as yf\n",
    "\n",
    "ddir = '/home/kray/DATA/nseindexconstituents/'\n",
    "outdir = '/home/kray/DATA/yahoonsedata/'"
   ]
  },
  {
   "cell_type": "code",
   "execution_count": null,
   "id": "abc33d08",
   "metadata": {},
   "outputs": [],
   "source": [
    "dff = pd.read_table(ddir + 'nseindexconstituents.txt', header=None)\n",
    "lfile = list(dff[0])\n",
    "lfile"
   ]
  },
  {
   "cell_type": "code",
   "execution_count": null,
   "id": "ac9fb7a2",
   "metadata": {},
   "outputs": [],
   "source": [
    "temp = []\n",
    "for item in lfile:\n",
    "    filename = ddir + item\n",
    "    print (filename)\n",
    "\n",
    "    df = pd.read_csv(filename)\n",
    "    temp += list(df['Symbol'])\n",
    "\n",
    "symbols = set(temp)\n",
    "\n",
    "print('Num symbols : ', len(symbols))"
   ]
  },
  {
   "cell_type": "code",
   "execution_count": null,
   "id": "36f64dac",
   "metadata": {},
   "outputs": [],
   "source": [
    "from time import sleep\n",
    "\n",
    "for symbol in symbols:\n",
    "    print(symbol)\n",
    "    sleep(1)\n",
    "    ydata = yf.Ticker(symbol+'.NS')\n",
    "    yhist = ydata.history(period='1y')\n",
    "    yhist.to_csv(outdir + symbol + '.csv')\n",
    "\n",
    "print( 'done.')"
   ]
  },
  {
   "cell_type": "code",
   "execution_count": null,
   "id": "4efde430",
   "metadata": {},
   "outputs": [],
   "source": []
  },
  {
   "cell_type": "code",
   "execution_count": null,
   "id": "de77bcfd",
   "metadata": {},
   "outputs": [],
   "source": []
  },
  {
   "cell_type": "code",
   "execution_count": null,
   "id": "1edd9a78",
   "metadata": {},
   "outputs": [],
   "source": []
  }
 ],
 "metadata": {
  "kernelspec": {
   "display_name": "Python 3 (Spyder)",
   "language": "python3",
   "name": "python3"
  },
  "language_info": {
   "codemirror_mode": {
    "name": "ipython",
    "version": 3
   },
   "file_extension": ".py",
   "mimetype": "text/x-python",
   "name": "python",
   "nbconvert_exporter": "python",
   "pygments_lexer": "ipython3",
   "version": "3.9.17"
  }
 },
 "nbformat": 4,
 "nbformat_minor": 5
}
